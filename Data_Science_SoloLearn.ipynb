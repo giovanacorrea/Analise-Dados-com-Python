{
  "nbformat": 4,
  "nbformat_minor": 0,
  "metadata": {
    "colab": {
      "name": "Data Science SoloLearn.ipynb",
      "provenance": [],
      "authorship_tag": "ABX9TyNbcx7CkCd+DJN/KouMCnw5",
      "include_colab_link": true
    },
    "kernelspec": {
      "name": "python3",
      "display_name": "Python 3"
    },
    "language_info": {
      "name": "python"
    }
  },
  "cells": [
    {
      "cell_type": "markdown",
      "metadata": {
        "id": "view-in-github",
        "colab_type": "text"
      },
      "source": [
        "<a href=\"https://colab.research.google.com/github/giovanacorrea/Analise-Dados-com-Python/blob/main/Data_Science_SoloLearn.ipynb\" target=\"_parent\"><img src=\"https://colab.research.google.com/assets/colab-badge.svg\" alt=\"Open In Colab\"/></a>"
      ]
    },
    {
      "cell_type": "markdown",
      "source": [
        "# Módulo Numpy "
      ],
      "metadata": {
        "id": "tfyBg5jNnM6z"
      }
    },
    {
      "cell_type": "markdown",
      "source": [
        "## Numpy\n",
        "### **1. O que é a Numpy?**\n",
        "<p>A Numpy é uma biblioteca que facilita a manipulação de dados, muito utilizada no meio científico. A Numpy é essencial para análise, extração e manipulação de dados estatísticos </p>\n",
        "\n",
        "### **2. Funções Essenciais** \n",
        "<p>Principais funções para manipulação de dados em um array da Numpy</p>\n",
        "\n",
        "\n",
        "  Função   | Como Funciona\n",
        "  ---------| -------------------\n",
        "  np.array | Cria um novo array\n",
        "  append   | Adiciona um novo elemento no array\n",
        "  reshape  | Altera a dimensão do array \n",
        "  dim      | Retorna o número de dimensões do array \n",
        "  size     | Retorna a quantidade de elementos do array\n",
        "  shape    | Retorna as dimensões do array\n",
        "  arange   | Permite criar um array a partir de intervalos \n",
        "  sort     | Ordena o array\n",
        "  delete   | Deleta um elemento do array\n",
        "\n",
        "### **3. Média, Mediana, Variância e Desvio Padrão**\n",
        "<p>Existem algumas fórmulas essenciais para a análise de dados, que podem ser facilmente realizadas com funções disponibilizadas pela biblioteca Numpy:</p>\n",
        "\n",
        "  Função   | Como Funciona\n",
        "  -------- | -------------------\n",
        "  mean     | Retorna a média\n",
        "  median   | Retorna a mediana\n",
        "  std      | Retorna o desvio padrão\n",
        "  var      | Retorna a variância \n",
        "\n",
        "</br>"
      ],
      "metadata": {
        "id": "BFGScYh7ncqC"
      }
    },
    {
      "cell_type": "markdown",
      "source": [
        "## Exercícios Práticos ##"
      ],
      "metadata": {
        "id": "zKKR0iF1Ov1F"
      }
    },
    {
      "cell_type": "markdown",
      "source": [
        "####Exercício Take a Seat: \n",
        "\n",
        "You are given an array that represents the occupancy of seats in a movie theater. A seat marked with 1 is occupied, while one marked 0 means the seat is free.\n",
        "\n",
        "However, the array is flat and 1-dimensional. Transform it into a 2-dimensional array, representing the rows of the seats.\n",
        "Each row in the theater has 5 seats and there are a total of 30 seats.\n",
        "Reshape the array into the corresponding shape and output the row at the given index, which is taken from user input."
      ],
      "metadata": {
        "id": "lbgxTxASl6Ou"
      }
    },
    {
      "cell_type": "markdown",
      "source": [
        ""
      ],
      "metadata": {
        "id": "7Fx1foWROvxo"
      }
    },
    {
      "cell_type": "code",
      "execution_count": null,
      "metadata": {
        "colab": {
          "base_uri": "https://localhost:8080/"
        },
        "id": "v17mlzpqx9x5",
        "outputId": "294c399e-10c6-47b8-a996-1c616e2cfd3d"
      },
      "outputs": [
        {
          "output_type": "stream",
          "name": "stdout",
          "text": [
            "2\n",
            "[1 1 1 1 1]\n"
          ]
        }
      ],
      "source": [
        "import numpy as np\n",
        "\n",
        "import numpy as np\n",
        "\n",
        "data = np.array([1, 1, 0, 0, 1, 0, 0, 0, 0, 0, 1, 1, 1, 1, 1, 1, 0, 1, 0, 1, 1, 1, 1, 0, 0, 0, 1, 1, 1, 0])\n",
        "\n",
        "#transforma o array em uma matriz 6x5 \n",
        "data = data.reshape(6,5)\n",
        "\n",
        "#Pega o número da linha dado para o usuário e printa \n",
        "row = int(input())\n",
        "print(data[row])\n",
        "\n",
        "\n"
      ]
    },
    {
      "cell_type": "markdown",
      "source": [
        "#### Multiples of 3 & 5\n",
        "\n",
        "<p>You are given a task to find all of the whole numbers below 100 that are multiples of both 3 and 5. Create an array of numbers below 100 that are multiples of both 3 and 5, and output it.</p>"
      ],
      "metadata": {
        "id": "aNm4tCVU6u9c"
      }
    },
    {
      "cell_type": "code",
      "source": [
        "import numpy as np\n",
        "\n",
        "#Cria o array e preenche no intervalo de 1 a 101 e printa apenas os números múltiplos de 3 e 5  \n",
        "data = np.arange(1, 101)\n",
        "print(data[(data%3 == 0) & (data%5==0)])\n"
      ],
      "metadata": {
        "colab": {
          "base_uri": "https://localhost:8080/"
        },
        "id": "JIuD-6lo67Vz",
        "outputId": "1f294bc3-0458-4a9a-ca49-500a45e6aa7d"
      },
      "execution_count": null,
      "outputs": [
        {
          "output_type": "stream",
          "name": "stdout",
          "text": [
            "[ 3  5  6  9 10 12 15 18 20 21 24 25 27 30 33 35 36 39 40 42 45 48 50 51\n",
            " 54 55 57 60 63 65 66 69 70 72 75 78 80 81 84 85 87 90 93 95 96 99]\n"
          ]
        }
      ]
    },
    {
      "cell_type": "markdown",
      "source": [
        "### Daily Infections\n",
        "<p> The given array represents the daily number of infections for 30 days.\n",
        "Find out how many days exceeded the average number of infections.\n",
        "Create the condition and output the size of the resulting array.</p>"
      ],
      "metadata": {
        "id": "FQOeH7EIfLf_"
      }
    },
    {
      "cell_type": "code",
      "source": [
        "import numpy as np\n",
        "\n",
        "data = np.array([120, 98, 150, 65, 42, 100, 190, 220, 140, 110, 88, 89, 100, 120, 50, 180, 155, 42, 89, 77, 200, 190, 125, 98, 77, 40, 39, 59, 30, 67])\n",
        "avarage = data.mean()\n",
        "\n",
        "res = data[data>avarage]\n",
        "ans = len(res)\n",
        "\n",
        "print(ans)\n"
      ],
      "metadata": {
        "colab": {
          "base_uri": "https://localhost:8080/"
        },
        "id": "YoJJcZaxfMRj",
        "outputId": "14c6471e-b2f1-4d01-f973-9cfa9f358e90"
      },
      "execution_count": null,
      "outputs": [
        {
          "output_type": "stream",
          "name": "stdout",
          "text": [
            "12\n"
          ]
        }
      ]
    },
    {
      "cell_type": "markdown",
      "source": [
        "### House Prices\n",
        "<p> You are given an array that represents house prices.\n",
        "Calculate and output the percentage of houses that are within one standard deviation from the mean.</p>\n"
      ],
      "metadata": {
        "id": "jxoZ50OWiYWO"
      }
    },
    {
      "cell_type": "code",
      "source": [
        "#verifica a porcentagem de casas com preço a uma standard deviation da média\n",
        "import numpy as np\n",
        "\n",
        "data = np.array([150000, 125000, 320000, 540000, 200000, 120000, 160000, 230000, 280000, 290000, 300000, 500000, 420000, 100000, 150000, 280000])\n",
        "\n",
        "sd = np.std(data)\n",
        "mean = np.mean(data)\n",
        "ans=0\n",
        "tam = len(data)\n",
        "\n",
        "for p in data :\n",
        "   if(p>=(abs(mean-sd)) and p<=(mean+sd)) :\n",
        "    ans+=1\n",
        " \n",
        "res = (ans/tam)*100\n",
        "\n",
        "print(res)\n"
      ],
      "metadata": {
        "colab": {
          "base_uri": "https://localhost:8080/"
        },
        "id": "-Y-A2AvChlBC",
        "outputId": "a7fa3af7-922f-4ff1-f8a5-35e41ed38ae2"
      },
      "execution_count": null,
      "outputs": [
        {
          "output_type": "stream",
          "name": "stdout",
          "text": [
            "62.5\n"
          ]
        }
      ]
    },
    {
      "cell_type": "markdown",
      "source": [
        ""
      ],
      "metadata": {
        "id": "ghIEk_hVRFZ4"
      }
    },
    {
      "cell_type": "markdown",
      "source": [
        "# Módulo Pandas\n"
      ],
      "metadata": {
        "id": "sI8MgVugRH68"
      }
    },
    {
      "cell_type": "markdown",
      "source": [
        "## Pandas \n",
        "\n",
        "### **1. O que é?**\n",
        "\n",
        "<p> A Pandas é uma biblioteca criada a partir da Numpy, que tem por objetivo facilitar a manipulação de dados para análise. Mais específicamente, para lidar com tabelas e estruturas de dados mais complexas </p>\n",
        "\n",
        "\n",
        "### **2. Sintaxe Básica**  \n",
        "\n",
        "Para importar a biblioteca: </br>\n",
        "   ```python\n",
        "   import panda as pd\n",
        "   ```\n",
        "### **3. Séries e Dataframes**\n",
        "\n",
        "<p>Séries e colunas são duas estruturas essenciais da pandas. Uma série é uma coluna de uma tabela e um dataframe é uma matriz de n dimensões criada a partir das séries.</p>\n",
        "\n",
        "- **Dataframes** \n",
        "\n",
        "     Exemplo de criação de dataframe: </br>\n",
        "\n",
        "    ```python\n",
        "    import pandas as pd\n",
        "\n",
        "    data = {'ages': [14, 18, 24, 42],\n",
        "            'heights': [165, 180, 176, 184]\n",
        "          }\n",
        "    df = pd.DataFrame(data)\n",
        "    print(df)\n",
        "    ```\n",
        "    ```\n",
        "    Output: \n",
        "         ages    heights\n",
        "    0    14      165\n",
        "    1    18      180\n",
        "    2    24      176\n",
        "    3    42      184\n",
        "    ```\n"
      ],
      "metadata": {
        "id": "7dDHibcURNh_"
      }
    },
    {
      "cell_type": "markdown",
      "source": [
        "## Exercícios práticos "
      ],
      "metadata": {
        "id": "4Vev0J7QRXHd"
      }
    },
    {
      "cell_type": "markdown",
      "source": [
        "### **Locating Contacts**\n",
        "\n",
        "<p> You are given a dictionary that contains names and numbers of people. You need to create a DataFrame from the dictionary and add an index to it, which should be the name values. Then take a name from user input and output the row in the DataFrame, which corresponds to that row. </p>"
      ],
      "metadata": {
        "id": "1ZGQI6IORdje"
      }
    },
    {
      "cell_type": "code",
      "source": [
        "import numpy as np \n",
        "import pandas as pd\n",
        "\n",
        "data = {\n",
        "   'name': ['James', 'Billy', 'Bob', 'Amy', 'Tom'],\n",
        "   'number': ['1234', '5678', '2222', '1111', '0909']\n",
        "}\n",
        "\n",
        "#Cria o dataframe e os nomes como index\n",
        "df = pd.DataFrame(data, index = ['James', 'Billy', 'Bob', 'Amy', 'Tom'])\n",
        "\n",
        "name = input()\n",
        "print(df.loc[name])\n"
      ],
      "metadata": {
        "colab": {
          "base_uri": "https://localhost:8080/"
        },
        "id": "0Cb6huqNRUdg",
        "outputId": "ce57056d-9a45-4eae-b1df-8cb239a224ad"
      },
      "execution_count": 8,
      "outputs": [
        {
          "output_type": "stream",
          "name": "stdout",
          "text": [
            "James\n",
            "name      James\n",
            "number     1234\n",
            "Name: James, dtype: object\n"
          ]
        }
      ]
    }
  ]
}